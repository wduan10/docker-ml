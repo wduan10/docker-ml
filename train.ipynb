{
  "cells": [
    {
      "cell_type": "code",
      "execution_count": 31,
      "metadata": {
        "id": "G2TBgZpVLNEf"
      },
      "outputs": [],
      "source": [
        "import torch\n",
        "import numpy as np\n",
        "import os\n",
        "import sys\n",
        "import torch.nn as nn\n",
        "import torch.optim as optim\n",
        "from torch.utils.data import DataLoader\n",
        "import torchvision.transforms as transforms\n",
        "import torchvision.datasets as datasets\n",
        "import matplotlib.pyplot as plt\n",
        "from datetime import datetime\n",
        "%matplotlib inline"
      ]
    },
    {
      "cell_type": "code",
      "execution_count": 48,
      "metadata": {
        "colab": {
          "base_uri": "https://localhost:8080/"
        },
        "id": "z6XwtFfMLVP1",
        "outputId": "d854c007-918e-41bd-92bb-0d41fecfea9c"
      },
      "outputs": [],
      "source": [
        "os.makedirs(\"saved_models\", exist_ok=True)\n",
        "os.makedirs(\"data\", exist_ok=True)"
      ]
    },
    {
      "cell_type": "code",
      "execution_count": 2,
      "metadata": {
        "colab": {
          "base_uri": "https://localhost:8080/"
        },
        "id": "OXxx5ENJLYTB",
        "outputId": "a93e8da6-ef6c-4136-950c-cc89b7e6866c"
      },
      "outputs": [
        {
          "name": "stdout",
          "output_type": "stream",
          "text": [
            "Device: cpu\n"
          ]
        }
      ],
      "source": [
        "learning_rate = 0.0002\n",
        "epochs = 1 # 1 epoch to test\n",
        "batch_size = 64\n",
        "device = torch.device(\"cuda\" if (torch.cuda.is_available()) else \"cpu\")\n",
        "num_workers = 0 if device.type == 'cuda' else 2\n",
        "pin_memory = True if device.type == 'cuda' else False\n",
        "print('Device:', device)"
      ]
    },
    {
      "cell_type": "code",
      "execution_count": 3,
      "metadata": {
        "colab": {
          "base_uri": "https://localhost:8080/"
        },
        "id": "1W5pHekcLeHg",
        "outputId": "0dbab4b8-f492-487f-febc-5b760e2f7e89"
      },
      "outputs": [
        {
          "name": "stderr",
          "output_type": "stream",
          "text": [
            "/Users/wilsonduan/opt/anaconda3/lib/python3.7/site-packages/torchvision/datasets/mnist.py:498: UserWarning: The given NumPy array is not writeable, and PyTorch does not support non-writeable tensors. This means you can write to the underlying (supposedly non-writeable) NumPy array using the tensor. You may want to copy the array to protect its data or make it writeable before converting it to a tensor. This type of warning will be suppressed for the rest of this program. (Triggered internally at  /Users/distiller/project/conda/conda-bld/pytorch_1623459064158/work/torch/csrc/utils/tensor_numpy.cpp:180.)\n",
            "  return torch.from_numpy(parsed.astype(m[2], copy=False)).view(*s)\n"
          ]
        }
      ],
      "source": [
        "transform = transforms.Compose([\n",
        "    transforms.Grayscale(),\n",
        "    transforms.Resize((28, 28)),\n",
        "    transforms.ToTensor(),\n",
        "    transforms.Normalize(0.5, 0.5)\n",
        "])\n",
        "\n",
        "source_trainset = datasets.MNIST(root='./data', train=True, download=True, transform=transform)\n",
        "source_testset = datasets.MNIST(root='./data', train=False, download=True, transform=transform)"
      ]
    },
    {
      "cell_type": "code",
      "execution_count": 4,
      "metadata": {
        "id": "sRRED10RLiMI"
      },
      "outputs": [],
      "source": [
        "source_train = DataLoader(source_trainset, batch_size=batch_size, shuffle=True, num_workers=num_workers, pin_memory=pin_memory)\n",
        "source_test = DataLoader(source_testset, batch_size=batch_size, shuffle=False, num_workers=num_workers, pin_memory=pin_memory)"
      ]
    },
    {
      "cell_type": "code",
      "execution_count": 9,
      "metadata": {
        "id": "oBRH4nAkLioM"
      },
      "outputs": [],
      "source": [
        "def weights_init(m):\n",
        "    classname = m.__class__.__name__\n",
        "    if classname.find('Conv') != -1:\n",
        "        nn.init.normal_(m.weight.data, 0.0, 0.02)\n",
        "    elif classname.find('BatchNorm') != -1:\n",
        "        nn.init.normal_(m.weight.data, 1.0, 0.02)\n",
        "        nn.init.constant_(m.bias.data, 0)"
      ]
    },
    {
      "cell_type": "code",
      "execution_count": 10,
      "metadata": {
        "id": "juihIOzkLkiX"
      },
      "outputs": [],
      "source": [
        "class CNN(nn.Module):\n",
        "    def __init__(self):\n",
        "        super(CNN, self).__init__()\n",
        "\n",
        "        self.main = nn.Sequential(\n",
        "            nn.Conv2d(1, 20, 5),\n",
        "            nn.MaxPool2d(2),\n",
        "            nn.ReLU(),\n",
        "\n",
        "            nn.Conv2d(20, 50, 5),\n",
        "            nn.Dropout2d(),\n",
        "            nn.MaxPool2d(2),\n",
        "            nn.ReLU(),\n",
        "\n",
        "            nn.Flatten(),\n",
        "            nn.Linear(50 * 4 * 4, 200),\n",
        "            nn.ReLU(),\n",
        "\n",
        "            nn.Linear(200, 10)\n",
        "        )\n",
        "\n",
        "    def forward(self, x):\n",
        "        return self.main(x)"
      ]
    },
    {
      "cell_type": "code",
      "execution_count": 11,
      "metadata": {
        "id": "ZkqBbRWXLom4"
      },
      "outputs": [],
      "source": [
        "model = CNN().to(device)\n",
        "model.apply(weights_init)\n",
        "\n",
        "optim = optim.Adam(model.parameters(), lr=learning_rate, betas=(0.5, 0.999))\n",
        "criterion_label = nn.CrossEntropyLoss()"
      ]
    },
    {
      "cell_type": "code",
      "execution_count": 12,
      "metadata": {
        "colab": {
          "base_uri": "https://localhost:8080/"
        },
        "id": "1gwKRru8LtUy",
        "outputId": "f3fe2f7c-0de4-4048-d22b-abe2faf02031"
      },
      "outputs": [
        {
          "name": "stderr",
          "output_type": "stream",
          "text": [
            "/Users/wilsonduan/opt/anaconda3/lib/python3.7/site-packages/torch/nn/functional.py:718: UserWarning: Named tensors and all their associated APIs are an experimental feature and subject to change. Please do not use them for anything important until they are released as stable. (Triggered internally at  /Users/distiller/project/conda/conda-bld/pytorch_1623459064158/work/c10/core/TensorImpl.h:1156.)\n",
            "  return torch.max_pool2d(input, kernel_size, stride, padding, dilation, ceil_mode)\n"
          ]
        },
        {
          "name": "stdout",
          "output_type": "stream",
          "text": [
            "[Epoch 0/0] [Batch 937/938] [Prediction loss 0.389996] [Accuracy 0.468750]"
          ]
        }
      ],
      "source": [
        "model.train()\n",
        "\n",
        "for epoch in range(epochs):\n",
        "    for i, ((X, y)) in enumerate(source_train):\n",
        "        X, y = X.to(device), y.to(device)\n",
        "\n",
        "        model.zero_grad()\n",
        "\n",
        "        output = model(X)\n",
        "\n",
        "        loss_prediction = criterion_label(output, y)\n",
        "        loss = loss_prediction\n",
        "\n",
        "        accuracy = torch.sum(output.argmax(dim=1) == y)/batch_size\n",
        "\n",
        "        loss.backward()\n",
        "        optim.step()\n",
        "\n",
        "        sys.stdout.write(\n",
        "            \"\\r[Epoch %d/%d] [Batch %d/%d] [Prediction loss %f] [Accuracy %f]\"\n",
        "            % (\n",
        "                epoch, epochs - 1, i, len(source_train),\n",
        "                loss_prediction.item(), accuracy.item()\n",
        "            )\n",
        "        )"
      ]
    },
    {
      "cell_type": "code",
      "execution_count": 13,
      "metadata": {
        "id": "KrFk7hbmtUWo"
      },
      "outputs": [],
      "source": [
        "torch.save(model.state_dict(), 'saved_models/model')"
      ]
    },
    {
      "cell_type": "code",
      "execution_count": 14,
      "metadata": {
        "colab": {
          "base_uri": "https://localhost:8080/"
        },
        "id": "LcHCkIPfMu2t",
        "outputId": "27f67d44-36ef-4a61-9dd5-e14d68f1ea88"
      },
      "outputs": [
        {
          "name": "stdout",
          "output_type": "stream",
          "text": [
            "Test accuracy: tensor(0.9606)\n"
          ]
        }
      ],
      "source": [
        "model.eval()\n",
        "accuracy = 0\n",
        "for X, y in source_test:\n",
        "    X, y = X.to(device), y.to(device)\n",
        "\n",
        "    preds = model(X)\n",
        "    accuracy += torch.sum(preds.argmax(dim=1) == y)\n",
        "accuracy = accuracy / (len(source_test) * batch_size)\n",
        "print('Test accuracy:', accuracy)"
      ]
    },
    {
      "cell_type": "code",
      "execution_count": null,
      "metadata": {},
      "outputs": [],
      "source": []
    }
  ],
  "metadata": {
    "accelerator": "GPU",
    "colab": {
      "provenance": []
    },
    "kernelspec": {
      "display_name": "Python 3",
      "name": "python3"
    },
    "language_info": {
      "codemirror_mode": {
        "name": "ipython",
        "version": 3
      },
      "file_extension": ".py",
      "mimetype": "text/x-python",
      "name": "python",
      "nbconvert_exporter": "python",
      "pygments_lexer": "ipython3",
      "version": "3.7.4"
    }
  },
  "nbformat": 4,
  "nbformat_minor": 0
}
